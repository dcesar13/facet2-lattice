{
 "cells": [
  {
   "cell_type": "code",
   "execution_count": 1,
   "metadata": {},
   "outputs": [],
   "source": [
    "# Useful for debugging\n",
    "%load_ext autoreload\n",
    "%autoreload 2"
   ]
  },
  {
   "cell_type": "code",
   "execution_count": 2,
   "metadata": {},
   "outputs": [],
   "source": [
    "from impact import Impact\n",
    "\n",
    "from distgen import Generator\n",
    "\n",
    "import numpy as np\n",
    "\n",
    "import os \n",
    "\n",
    "ROOT = os.environ['FACET2_LATTICE']"
   ]
  },
  {
   "cell_type": "code",
   "execution_count": 3,
   "metadata": {},
   "outputs": [],
   "source": [
    "# Nicer plotting\n",
    "import matplotlib.pyplot as plt\n",
    "import matplotlib\n",
    "%matplotlib inline\n",
    "%config InlineBackend.figure_format = 'retina'\n",
    "matplotlib.rcParams['figure.figsize'] = (8,4)"
   ]
  },
  {
   "cell_type": "markdown",
   "metadata": {},
   "source": [
    "# cu_inj Impact-T"
   ]
  },
  {
   "cell_type": "code",
   "execution_count": 4,
   "metadata": {},
   "outputs": [],
   "source": [
    "ifile = os.path.join(ROOT, 'impact/models/f2e_inj/v0/ImpactT.yaml')\n",
    "gfile = os.path.join(ROOT, 'distgen/models/f2e_inj/v0/distgen.yaml')\n",
    "assert os.path.exists(ifile)\n",
    "assert os.path.exists(gfile)\n"
   ]
  },
  {
   "cell_type": "code",
   "execution_count": 5,
   "metadata": {},
   "outputs": [],
   "source": [
    "I = Impact.from_yaml(ifile)"
   ]
  },
  {
   "cell_type": "markdown",
   "metadata": {},
   "source": [
    "# Check Energies"
   ]
  },
  {
   "cell_type": "code",
   "execution_count": 6,
   "metadata": {},
   "outputs": [
    {
     "data": {
      "text/plain": [
       "6000000.000536164"
      ]
     },
     "execution_count": 6,
     "metadata": {},
     "output_type": "execute_result"
    }
   ],
   "source": [
    "from impact.autophase import autophase_and_scale\n",
    "\n",
    "from pmd_beamphysics import single_particle\n",
    "\n",
    "P0 = single_particle(pz=1e-15, z=1e-15)\n",
    "\n",
    "# Energy out of the gun\n",
    "I.track(P0, s = 0.5)['mean_energy']"
   ]
  },
  {
   "cell_type": "code",
   "execution_count": 7,
   "metadata": {},
   "outputs": [
    {
     "data": {
      "text/plain": [
       "63999919.58410558"
      ]
     },
     "execution_count": 7,
     "metadata": {},
     "output_type": "execute_result"
    }
   ],
   "source": [
    "I.track(P0, s = I['L0AF_exit']['s'])['mean_energy']"
   ]
  },
  {
   "cell_type": "code",
   "execution_count": 8,
   "metadata": {},
   "outputs": [
    {
     "data": {
      "text/plain": [
       "135004626.2891383"
      ]
     },
     "execution_count": 8,
     "metadata": {},
     "output_type": "execute_result"
    }
   ],
   "source": [
    "I.track(P0, s = 12.5)['mean_energy']"
   ]
  },
  {
   "cell_type": "code",
   "execution_count": 9,
   "metadata": {},
   "outputs": [
    {
     "data": {
      "image/png": "[encoded data removed]",
      "text/plain": [
       "<Figure size 576x288 with 2 Axes>"
      ]
     },
     "metadata": {
      "image/png": {
       "height": 231,
       "width": 500
      },
      "needs_background": "light"
     },
     "output_type": "display_data"
    }
   ],
   "source": [
    "I.plot('mean_kinetic_energy')"
   ]
  },
  {
   "cell_type": "code",
   "execution_count": 10,
   "metadata": {},
   "outputs": [
    {
     "data": {
      "text/plain": [
       "{'initial_particles': <ParticleGroup with 1 particles at 0x10efbe0a0>,\n",
       " 'final_particles': <ParticleGroup with 1 particles at 0x10efbee80>}"
      ]
     },
     "execution_count": 10,
     "metadata": {},
     "output_type": "execute_result"
    }
   ],
   "source": [
    "I.particles"
   ]
  },
  {
   "cell_type": "markdown",
   "metadata": {},
   "source": [
    "# Gun Phasing"
   ]
  },
  {
   "cell_type": "code",
   "execution_count": null,
   "metadata": {},
   "outputs": [],
   "source": [
    "autophase_and_scale(I, phase_ele_name='GUNF_phase',\n",
    "                    phase_attribute='dtheta0_deg',\n",
    "                    scale_ele_name='GUNF_scale',\n",
    "                    scale_attribute='voltage',\n",
    "                    target=6e6, scale_range=(4e6, 6e6)\n",
    "                    metric='mean_energy',\n",
    "                    initial_particles=P0, verbose=True)"
   ]
  },
  {
   "cell_type": "markdown",
   "metadata": {},
   "source": [
    "# L0AF, L0BF"
   ]
  },
  {
   "cell_type": "code",
   "execution_count": null,
   "metadata": {},
   "outputs": [],
   "source": [
    "# L0AF\n",
    "autophase_and_scale(I, phase_ele_name='L0AF_phase', phase_attribute='dtheta0_deg', scale_ele_name='L0AF_scale', scale_attribute='voltage',\n",
    "                    target=64e6, scale_range=(10e6, 100e6), initial_particles=P0, verbose=True, debug=False)"
   ]
  },
  {
   "cell_type": "code",
   "execution_count": null,
   "metadata": {},
   "outputs": [],
   "source": [
    "# L0BF\n",
    "autophase_and_scale(I, phase_ele_name='L0BF_phase', phase_attribute='dtheta0_deg', scale_ele_name='L0BF_scale', scale_attribute='voltage',\n",
    "                    target=135e6, scale_range=(10e6, 100e6), initial_particles=P0, verbose=True, debug=False)"
   ]
  },
  {
   "cell_type": "code",
   "execution_count": null,
   "metadata": {},
   "outputs": [],
   "source": [
    "dphi = 80.89517285557837"
   ]
  },
  {
   "cell_type": "code",
   "execution_count": null,
   "metadata": {},
   "outputs": [],
   "source": [
    "plist = [44.27 ,\n",
    "74.27 ,\n",
    "134.27,\n",
    "44.27 ]\n",
    "for p in plist:\n",
    "    print(p+dphi)"
   ]
  },
  {
   "cell_type": "markdown",
   "metadata": {},
   "source": [
    "# Integrated Solenoid field"
   ]
  },
  {
   "cell_type": "code",
   "execution_count": null,
   "metadata": {},
   "outputs": [],
   "source": [
    "from impact import  fieldmaps\n",
    "import numpy as np\n",
    "\n",
    "# Fieldmaps are stored here\n",
    "I.input['fieldmaps'].keys()"
   ]
  },
  {
   "cell_type": "code",
   "execution_count": null,
   "metadata": {},
   "outputs": [],
   "source": [
    "# Look at a solrf element. \n",
    "I.ele['SOL10111']"
   ]
  },
  {
   "cell_type": "code",
   "execution_count": null,
   "metadata": {},
   "outputs": [],
   "source": [
    "# That data is here. \n",
    "rdfata = I.input['fieldmaps']['rfdata102']\n",
    "\n",
    "#This will process the fieldmap to extract Ez and Bz\n",
    "fmap = fieldmaps.process_fieldmap_solrf(rdfata['data'])\n",
    "fmap"
   ]
  },
  {
   "cell_type": "code",
   "execution_count": null,
   "metadata": {},
   "outputs": [],
   "source": [
    "# Reconstruction function\n",
    "fieldmaps.fieldmap_reconsruction(fmap['Bz'], 0)"
   ]
  },
  {
   "cell_type": "code",
   "execution_count": null,
   "metadata": {},
   "outputs": [],
   "source": [
    "zmax = 0.49308\n",
    "\n",
    "zlist = np.linspace(0, zmax, 1000)\n",
    "fieldlist = np.array([fieldmaps.fieldmap_reconsruction(fmap['Bz'], z) for z in zlist])\n",
    "\n",
    "# z at max field\n",
    "zlist[np.argmax(np.array(fieldlist))]"
   ]
  },
  {
   "cell_type": "code",
   "execution_count": null,
   "metadata": {},
   "outputs": [],
   "source": [
    "plt.plot(zlist, fieldlist)"
   ]
  },
  {
   "cell_type": "code",
   "execution_count": null,
   "metadata": {},
   "outputs": [],
   "source": [
    "# Effective length (integral of field^2)\n",
    "Leff = np.trapz(fieldlist**2, zlist)/fieldlist.max()**2\n",
    "Leff"
   ]
  },
  {
   "cell_type": "code",
   "execution_count": null,
   "metadata": {},
   "outputs": [],
   "source": [
    "0.1/Leff"
   ]
  },
  {
   "cell_type": "code",
   "execution_count": null,
   "metadata": {},
   "outputs": [],
   "source": [
    "0.4*0.61339616"
   ]
  },
  {
   "cell_type": "code",
   "execution_count": null,
   "metadata": {},
   "outputs": [],
   "source": [
    "0.4*0.1/Leff"
   ]
  },
  {
   "cell_type": "code",
   "execution_count": null,
   "metadata": {},
   "outputs": [],
   "source": [
    "0.4 /10"
   ]
  },
  {
   "cell_type": "code",
   "execution_count": null,
   "metadata": {},
   "outputs": [],
   "source": [
    "# PV (kG*m)/Leff*m * 0.1 T/kG = peak field in T"
   ]
  },
  {
   "cell_type": "code",
   "execution_count": null,
   "metadata": {},
   "outputs": [],
   "source": [
    "# Integrated field (approximate)\n",
    "dz = zmax/1000\n",
    "BL = np.sum(fieldlist)*dz  # T*m\n",
    "\n",
    "# \n",
    "BL * 10 # T*m -> kG*m"
   ]
  },
  {
   "cell_type": "code",
   "execution_count": null,
   "metadata": {},
   "outputs": [],
   "source": [
    "# Factor to convert BL in kG*m to Bmax in T\n",
    "1/(BL * 10 )"
   ]
  },
  {
   "cell_type": "markdown",
   "metadata": {},
   "source": [
    "# Corrector Quads"
   ]
  },
  {
   "cell_type": "code",
   "execution_count": null,
   "metadata": {},
   "outputs": [],
   "source": [
    "ele = I.ele['CQ10121']\n",
    "ele"
   ]
  },
  {
   "cell_type": "code",
   "execution_count": null,
   "metadata": {},
   "outputs": [],
   "source": [
    "I['CQ10121:b1_gradient']"
   ]
  },
  {
   "cell_type": "code",
   "execution_count": null,
   "metadata": {},
   "outputs": [],
   "source": [
    "# Factor to convert kG to T/m\n",
    "0.1/ele['L_effective'] "
   ]
  },
  {
   "cell_type": "code",
   "execution_count": null,
   "metadata": {},
   "outputs": [],
   "source": []
  }
 ],
 "metadata": {
  "kernelspec": {
   "display_name": "Python 3",
   "language": "python",
   "name": "python3"
  },
  "language_info": {
   "codemirror_mode": {
    "name": "ipython",
    "version": 3
   },
   "file_extension": ".py",
   "mimetype": "text/x-python",
   "name": "python",
   "nbconvert_exporter": "python",
   "pygments_lexer": "ipython3",
   "version": "3.9.2"
  }
 },
 "nbformat": 4,
 "nbformat_minor": 4
}
