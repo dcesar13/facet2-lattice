{
 "cells": [
  {
   "cell_type": "code",
   "execution_count": 1,
   "metadata": {},
   "outputs": [],
   "source": [
    "# Useful for debugging\n",
    "%load_ext autoreload\n",
    "%autoreload 2"
   ]
  },
  {
   "cell_type": "markdown",
   "metadata": {},
   "source": [
    "# SLAC XSIF to Bmad conversion\n",
    "\n",
    "This requires code from LCLS_LATTICE"
   ]
  },
  {
   "cell_type": "code",
   "execution_count": 2,
   "metadata": {},
   "outputs": [],
   "source": [
    "# Patch in the slac2bmad package\n",
    "import sys, os\n",
    "pypath = os.environ['LCLS_LATTICE']+'/bmad/conversion/python'\n",
    "sys.path.append(pypath)"
   ]
  },
  {
   "cell_type": "code",
   "execution_count": 3,
   "metadata": {},
   "outputs": [],
   "source": [
    "from slac2bmad.xsif import prepare_xsif, remove_comment_blocks, replace_set, replace_set_commands, fix_matrix, expand_names, fix_names, unfold_comments, fold_comments\n",
    "from slac2bmad.desplit import desplit_eles, desplit_ele\n",
    "from slac2bmad.replace import replace_element, replace_eles\n",
    "from slac2bmad.bmad import finalize_bmad\n",
    "\n",
    "from glob import glob\n",
    "import shutil\n",
    "\n",
    "import subprocess\n",
    "import json\n",
    "import os"
   ]
  },
  {
   "cell_type": "markdown",
   "metadata": {},
   "source": [
    "# Custom element replacements (in Bmad)"
   ]
  },
  {
   "cell_type": "code",
   "execution_count": 4,
   "metadata": {},
   "outputs": [],
   "source": [
    "NEWELES = {}\n",
    "\n",
    "NEWELES['um10466'] = \"\"\"\n",
    "!------- Laser Heater Undulator for Copper Linac -------\n",
    "my_lh_und_k = 0\n",
    "um10466: wiggler, \n",
    "        type = \"laser_heater_undulator\",\n",
    "        L_period = 0.054, \n",
    "        n_period = 10, \n",
    "        b_max = my_lh_und_k * 2*pi*m_electron / (c_light * 0.054), \n",
    "        L = 10*0.054 ! Was: 0.506263, \n",
    "        ds_step = 0.054\n",
    "        \n",
    "um10466[L] = um10466[L]/2 ! Will be doubled in desplitting process. \n",
    "!---------------------------------\n",
    "    \"\"\"\n",
    "        \n",
    "NEWELES['dh02b'] = \"\"\"\n",
    "! Shorten so that lh_und has an integer number of poles\n",
    "dh02b: drift, l = 0.0846296264 - ( 10*0.054 - 0.506263 ) /2\n",
    "\"\"\"\n",
    "\n",
    "NEWELES['dh03a'] = \"\"\"\n",
    "! Shorten so that lh_und has an integer number of poles\n",
    "dh03a: drift, l = 0.0845477112 - ( 10*0.054 - 0.506263 ) /2\n",
    "\"\"\"    \n",
    "    \n",
    "    \n",
    " "
   ]
  },
  {
   "cell_type": "code",
   "execution_count": 5,
   "metadata": {},
   "outputs": [],
   "source": [
    "# Add these repalcements\n",
    "F2_LINAC_REPLACEMENTS = json.load(open('good_facet2_linac_replacements.json'))\n",
    "for name, replace in F2_LINAC_REPLACEMENTS.items():\n",
    "    NEWELES[name.lower()+'_full'] = replace   "
   ]
  },
  {
   "cell_type": "code",
   "execution_count": 6,
   "metadata": {},
   "outputs": [],
   "source": [
    "BENDS_TO_DESPLIT = [\n",
    "'BCX11314',\n",
    "'BCX11331',\n",
    "'BCX11338',\n",
    "'BCX11355',\n",
    "'BX10751',\n",
    "'BX10661',    \n",
    "'BCX14720',\n",
    "'BCX14796',\n",
    "'BCX14808',\n",
    "'BCX14883',\n",
    "'BCX141720',\n",
    "'BCX141796',\n",
    "'BCX141808',\n",
    "'BCX141883',\n",
    "'BCX10451',\n",
    "'BCX10461',\n",
    "'BCX10475',\n",
    "'BCX10481',  \n",
    "'B1LE',\n",
    "'B2LE',\n",
    "'B3LE',\n",
    "'B3RE',\n",
    "'B2RE',\n",
    "'B1RE',\n",
    "'BLX57172',\n",
    "'BLY57174',\n",
    "'BKY170',\n",
    "'BY57202',\n",
    "'BX57205',\n",
    "'BX57215',\n",
    "'BX57225',\n",
    "'BX57235',\n",
    "'BX57245',\n",
    "'BX57255',\n",
    "'BX57265',\n",
    "'BX57275'\n",
    "    \n",
    "]\n",
    "def desplit_bend_line(name):\n",
    "    return f'{name}_full: line = ({name})'\n",
    "\n",
    "BEND_REPLACEMENTS = {}\n",
    "for name in BENDS_TO_DESPLIT:\n",
    "    BEND_REPLACEMENTS[name+'_full'] = desplit_bend_line(name)\n",
    "NEWELES.update(BEND_REPLACEMENTS )"
   ]
  },
  {
   "cell_type": "code",
   "execution_count": 7,
   "metadata": {},
   "outputs": [],
   "source": [
    "def all_replacements(master_file):\n",
    "    dat = {}\n",
    "    dat.update(NEWELES)\n",
    "    #if master_file.startswith('F2_'):\n",
    "    #    print('F2replacements')\n",
    "    #    dat.update(F2_NEWELES)\n",
    "    #    return dat\n",
    "    #else:\n",
    "    #    raise \n",
    "    return dat\n",
    "#all_replacements('F2_')        "
   ]
  },
  {
   "cell_type": "markdown",
   "metadata": {},
   "source": [
    "# Convert all"
   ]
  },
  {
   "cell_type": "code",
   "execution_count": 8,
   "metadata": {},
   "outputs": [],
   "source": [
    "!mkdir temp"
   ]
  },
  {
   "cell_type": "code",
   "execution_count": 9,
   "metadata": {},
   "outputs": [
    {
     "name": "stdout",
     "output_type": "stream",
     "text": [
      "rm: *xsif: No such file or directory\n",
      "rm: *bmad: No such file or directory\n",
      "rm: *digested*: No such file or directory\n"
     ]
    }
   ],
   "source": [
    "# Clean\n",
    "!rm *xsif *bmad *digested*"
   ]
  },
  {
   "cell_type": "code",
   "execution_count": 10,
   "metadata": {},
   "outputs": [
    {
     "name": "stdout",
     "output_type": "stream",
     "text": [
      "/Users/chrisonian/Code/GitHub/facet2-lattice/bmad/conversion\n"
     ]
    }
   ],
   "source": [
    "!pwd"
   ]
  },
  {
   "cell_type": "code",
   "execution_count": 11,
   "metadata": {},
   "outputs": [],
   "source": [
    "!cp /Users/chrisonian/Code/GitHub/facet2-lattice/mad/*xsif ."
   ]
  },
  {
   "cell_type": "code",
   "execution_count": 12,
   "metadata": {},
   "outputs": [
    {
     "name": "stdout",
     "output_type": "stream",
     "text": [
      "Preparing INJ.xsif\n",
      "Preparing QDDSQ.xsif\n",
      "Preparing FACET2p_DRTBC11.xsif\n",
      "Preparing FACET2e_master.xsif\n",
      "Preparing F2_POSI.xsif\n",
      "Preparing BA.xsif\n",
      "Preparing SCAV.xsif\n",
      "Preparing QF2Q.xsif\n",
      "Preparing FACET2p_DR.xsif\n",
      "Preparing FACET2p_master.xsif\n",
      "Preparing BC14.xsif\n",
      "Preparing L2.xsif\n",
      "Preparing LI20.xsif\n",
      "Preparing L3.xsif\n",
      "Preparing F2_ELEC.xsif\n",
      "Preparing common.xsif\n",
      "Preparing BD.xsif\n",
      "Preparing L1.xsif\n",
      "Preparing F2_S10AIP.xsif\n",
      "Preparing F2_SCAV.xsif\n",
      "Preparing DL10.xsif\n",
      "Preparing QFCQ.xsif\n",
      "Preparing BC20E.xsif\n",
      "Preparing FACET2p_PRLTDR.xsif\n",
      "Preparing BC11.xsif\n",
      "Preparing BC20P.xsif\n"
     ]
    }
   ],
   "source": [
    "XSIF_FILES=[f for f in os.listdir() if f.endswith('.xsif')]\n",
    "for f in XSIF_FILES:\n",
    "    prepare_xsif(f, save=False)"
   ]
  },
  {
   "cell_type": "code",
   "execution_count": 13,
   "metadata": {},
   "outputs": [],
   "source": [
    "!mv *xsif temp/"
   ]
  },
  {
   "cell_type": "code",
   "execution_count": 14,
   "metadata": {},
   "outputs": [
    {
     "data": {
      "text/plain": [
       "['F2_POSI.xsif', 'F2_ELEC.xsif', 'F2_S10AIP.xsif', 'F2_SCAV.xsif']"
      ]
     },
     "execution_count": 14,
     "metadata": {},
     "output_type": "execute_result"
    }
   ],
   "source": [
    "F2_MASTERS = [f for f in os.listdir('../../mad') if f.startswith('F2_')]\n",
    "F2_MASTERS"
   ]
  },
  {
   "cell_type": "code",
   "execution_count": 15,
   "metadata": {},
   "outputs": [],
   "source": [
    "TEMPDIR = './temp/'\n",
    "WORKDIR = './work/'"
   ]
  },
  {
   "cell_type": "code",
   "execution_count": 16,
   "metadata": {},
   "outputs": [
    {
     "name": "stdout",
     "output_type": "stream",
     "text": [
      "mkdir: ./temp/: File exists\n"
     ]
    }
   ],
   "source": [
    "!mkdir {TEMPDIR}\n",
    "!mkdir {WORKDIR}"
   ]
  },
  {
   "cell_type": "markdown",
   "metadata": {},
   "source": [
    "# Process "
   ]
  },
  {
   "cell_type": "code",
   "execution_count": 17,
   "metadata": {},
   "outputs": [],
   "source": [
    "DEST = os.path.expandvars('$FACET2_LATTICE/bmad/master/')\n",
    "assert os.path.exists(DEST)"
   ]
  },
  {
   "cell_type": "code",
   "execution_count": 18,
   "metadata": {
    "tags": []
   },
   "outputs": [
    {
     "name": "stdout",
     "output_type": "stream",
     "text": [
      "Converting F2_ELEC.xsif\n",
      "cd work;python $ACC_ROOT_DIR/util_programs/mad_to_bmad/mad8_to_bmad.py --no_prepend_vars -f F2_ELEC.xsif\n",
      "    Copying all to /Users/chrisonian/Code/GitHub/facet2-lattice//bmad/master/\n"
     ]
    }
   ],
   "source": [
    "def process_master(master):\n",
    "    \n",
    "    print(f'Converting {master}')\n",
    "    \n",
    "    shutil.copytree(TEMPDIR, WORKDIR, dirs_exist_ok=True)\n",
    "    \n",
    "    # New method\n",
    "    SCRIPT = f'cd work;python $ACC_ROOT_DIR/util_programs/mad_to_bmad/mad8_to_bmad.py --no_prepend_vars -f {master}'\n",
    "    print(SCRIPT)\n",
    "    res = subprocess.run(SCRIPT, shell=True, cwd=WORKDIR)\n",
    "    \n",
    "    assert res.returncode == 0\n",
    "    \n",
    "    BMAD_FILES=glob(WORKDIR+'/*bmad')\n",
    "\n",
    "    REPLACEMENTS = all_replacements(master)\n",
    "    #REPLACEMENTS={}\n",
    "\n",
    "    for f in BMAD_FILES:\n",
    "        finalize_bmad(f, replacements=REPLACEMENTS, verbose=False)   \n",
    "    \n",
    "    print(f'    Copying all to {DEST}')\n",
    "    for f in BMAD_FILES:\n",
    "        #print(f'copying {f} to {DEST}')\n",
    "        shutil.copy(f, DEST)\n",
    "    \n",
    "    \n",
    "process_master('F2_ELEC.xsif')\n",
    "#process_master('INJ.xsif')"
   ]
  },
  {
   "cell_type": "code",
   "execution_count": 19,
   "metadata": {},
   "outputs": [
    {
     "name": "stdout",
     "output_type": "stream",
     "text": [
      "Converting F2_POSI.xsif\n",
      "cd work;python $ACC_ROOT_DIR/util_programs/mad_to_bmad/mad8_to_bmad.py --no_prepend_vars -f F2_POSI.xsif\n",
      "    Copying all to /Users/chrisonian/Code/GitHub/facet2-lattice//bmad/master/\n",
      "Converting F2_ELEC.xsif\n",
      "cd work;python $ACC_ROOT_DIR/util_programs/mad_to_bmad/mad8_to_bmad.py --no_prepend_vars -f F2_ELEC.xsif\n",
      "    Copying all to /Users/chrisonian/Code/GitHub/facet2-lattice//bmad/master/\n",
      "Converting F2_S10AIP.xsif\n",
      "cd work;python $ACC_ROOT_DIR/util_programs/mad_to_bmad/mad8_to_bmad.py --no_prepend_vars -f F2_S10AIP.xsif\n",
      "    Copying all to /Users/chrisonian/Code/GitHub/facet2-lattice//bmad/master/\n",
      "Converting F2_SCAV.xsif\n",
      "cd work;python $ACC_ROOT_DIR/util_programs/mad_to_bmad/mad8_to_bmad.py --no_prepend_vars -f F2_SCAV.xsif\n",
      "    Copying all to /Users/chrisonian/Code/GitHub/facet2-lattice//bmad/master/\n"
     ]
    }
   ],
   "source": [
    "for m in F2_MASTERS:\n",
    "    process_master(m)"
   ]
  },
  {
   "cell_type": "markdown",
   "metadata": {},
   "source": [
    "# Final cleanup"
   ]
  },
  {
   "cell_type": "code",
   "execution_count": 20,
   "metadata": {},
   "outputs": [],
   "source": [
    "!rm -r {TEMPDIR}\n",
    "!rm -r {WORKDIR}"
   ]
  }
 ],
 "metadata": {
  "kernelspec": {
   "display_name": "Python 3",
   "language": "python",
   "name": "python3"
  },
  "language_info": {
   "codemirror_mode": {
    "name": "ipython",
    "version": 3
   },
   "file_extension": ".py",
   "mimetype": "text/x-python",
   "name": "python",
   "nbconvert_exporter": "python",
   "pygments_lexer": "ipython3",
   "version": "3.9.2"
  }
 },
 "nbformat": 4,
 "nbformat_minor": 4
}
